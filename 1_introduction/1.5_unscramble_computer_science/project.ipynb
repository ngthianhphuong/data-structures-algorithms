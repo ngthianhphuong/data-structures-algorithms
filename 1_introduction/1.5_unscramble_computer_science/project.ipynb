{
 "cells": [
  {
   "cell_type": "markdown",
   "metadata": {},
   "source": [
    "# Task0"
   ]
  },
  {
   "cell_type": "code",
   "execution_count": 1,
   "metadata": {},
   "outputs": [],
   "source": [
    "\"\"\"\n",
    "Read file into texts and calls.\n",
    "It's ok if you don't understand how to read files.\n",
    "\"\"\"\n",
    "import csv\n",
    "with open('texts.csv', 'r') as f:\n",
    "    reader = csv.reader(f)\n",
    "    texts = list(reader)\n",
    "\n",
    "with open('calls.csv', 'r') as f:\n",
    "    reader = csv.reader(f)\n",
    "    calls = list(reader)"
   ]
  },
  {
   "cell_type": "code",
   "execution_count": 2,
   "metadata": {},
   "outputs": [
    {
     "data": {
      "text/plain": [
       "[['97424 22395', '90365 06212', '01-09-2016 06:03:22'],\n",
       " ['94489 72078', '92415 91418', '01-09-2016 06:05:35'],\n",
       " ['81520 43406', '92421 64236', '01-09-2016 06:09:34'],\n",
       " ['97389 12538', '90352 50054', '01-09-2016 06:09:39'],\n",
       " ['81515 42171', '98440 02823', '01-09-2016 06:13:30']]"
      ]
     },
     "execution_count": 2,
     "metadata": {},
     "output_type": "execute_result"
    }
   ],
   "source": [
    "texts[:5]"
   ]
  },
  {
   "cell_type": "code",
   "execution_count": 3,
   "metadata": {},
   "outputs": [
    {
     "data": {
      "text/plain": [
       "[['70129 62374', '98441 32533', '30-09-2016 23:42:28', '1338'],\n",
       " ['98444 95768', '99003 47921', '30-09-2016 23:44:46', '161'],\n",
       " ['95267 70383', '(080)34121098', '30-09-2016 23:49:32', '914'],\n",
       " ['90368 95100', '(080)29483476', '30-09-2016 23:54:15', '1288'],\n",
       " ['98447 62998', '(080)46304537', '30-09-2016 23:57:15', '2151']]"
      ]
     },
     "execution_count": 3,
     "metadata": {},
     "output_type": "execute_result"
    }
   ],
   "source": [
    "calls[-5:]"
   ]
  },
  {
   "cell_type": "code",
   "execution_count": 4,
   "metadata": {},
   "outputs": [
    {
     "name": "stdout",
     "output_type": "stream",
     "text": [
      "First record of texts, 97424 22395 texts 90365 06212 at time 01-09-2016 06:03:22.\n",
      "Last record of calls, 98447 62998 calls (080)46304537 at time 30-09-2016 23:57:15, lasting 2151 seconds.\n"
     ]
    }
   ],
   "source": [
    "\"\"\"\n",
    "TASK 0:\n",
    "What is the first record of texts and what is the last record of calls?\n",
    "Print messages:\n",
    "\"First record of texts, <incoming number> texts <answering number> at time <time>\"\n",
    "\"Last record of calls, <incoming number> calls <answering number> at time <time>, lasting <during> seconds\"\n",
    "\"\"\"\n",
    "\n",
    "print(\"First record of texts, {} texts {} at time {}.\".format(texts[0][0], texts[0][1], texts[0][2]))\n",
    "print(\"Last record of calls, {} calls {} at time {}, lasting {} seconds.\".format(calls[-1][0], calls[-1][1], calls[-1][2], calls[-1][3]))"
   ]
  },
  {
   "cell_type": "markdown",
   "metadata": {},
   "source": [
    "# Task1"
   ]
  },
  {
   "cell_type": "code",
   "execution_count": 5,
   "metadata": {},
   "outputs": [],
   "source": [
    "\"\"\"\n",
    "TASK 1:\n",
    "How many different telephone numbers are there in the records? \n",
    "Print a message:\n",
    "\"There are <count> different telephone numbers in the records.\"\n",
    "\"\"\"\n",
    "from time import time"
   ]
  },
  {
   "cell_type": "code",
   "execution_count": 6,
   "metadata": {},
   "outputs": [
    {
     "name": "stdout",
     "output_type": "stream",
     "text": [
      "Wall time: 0 ns\n",
      "There are 570 different telephone numbers in the records.\n"
     ]
    }
   ],
   "source": [
    "%time\n",
    "unique_phone_numbers = set()\n",
    "\n",
    "for text in texts:\n",
    "    unique_phone_numbers.update([text[0], text[1]])\n",
    "                             \n",
    "for call in calls:\n",
    "    unique_phone_numbers.update([call[0], call[1]])\n",
    "                                \n",
    "print(\"There are {} different telephone numbers in the records.\".format(len(unique_phone_numbers)))"
   ]
  },
  {
   "cell_type": "code",
   "execution_count": 7,
   "metadata": {},
   "outputs": [
    {
     "name": "stdout",
     "output_type": "stream",
     "text": [
      "Wall time: 0 ns\n",
      "There are 570 different telephone numbers in the records.\n"
     ]
    }
   ],
   "source": [
    "%time\n",
    "import numpy as np\n",
    "\n",
    "union = np.union1d(np.array(texts)[:, :2], np.array(calls)[:, :2])\n",
    "\n",
    "print(\"There are {} different telephone numbers in the records.\".format(len(set(union))))"
   ]
  },
  {
   "cell_type": "markdown",
   "metadata": {},
   "source": [
    "# Task2\n",
    "\n"
   ]
  },
  {
   "cell_type": "code",
   "execution_count": 8,
   "metadata": {},
   "outputs": [
    {
     "name": "stdout",
     "output_type": "stream",
     "text": [
      "Wall time: 0 ns\n",
      "(080)33251027 spent the longest time, 90456 seconds, on the phone during September 2016.\n"
     ]
    }
   ],
   "source": [
    "\"\"\"\n",
    "TASK 2: Which telephone number spent the longest time on the phone\n",
    "during the period? Don't forget that time spent answering a call is\n",
    "also time spent on the phone.\n",
    "Print a message:\n",
    "\"<telephone number> spent the longest time, <total time> seconds, on the phone during \n",
    "September 2016.\".\n",
    "\"\"\"\n",
    "%time\n",
    "from collections import Counter\n",
    "time_on_phone = Counter()\n",
    "\n",
    "for call in calls:\n",
    "    time_on_phone[call[0]] += int(call[3])\n",
    "    time_on_phone[call[1]] += int(call[3])\n",
    "\n",
    "print(\"{} spent the longest time, {} seconds, on the phone during September 2016.\".format(time_on_phone.most_common()[0][0], time_on_phone.most_common(1)[0][1]))"
   ]
  },
  {
   "cell_type": "markdown",
   "metadata": {},
   "source": [
    "# Task3"
   ]
  },
  {
   "cell_type": "code",
   "execution_count": 11,
   "metadata": {
    "scrolled": false
   },
   "outputs": [],
   "source": [
    "\"\"\"\n",
    "TASK 3:\n",
    "(080) is the area code for fixed line telephones in Bangalore.\n",
    "Fixed line numbers include parentheses, so Bangalore numbers\n",
    "have the form (080)xxxxxxx.)\n",
    "\n",
    "Part A: Find all of the area codes and mobile prefixes called by people\n",
    "in Bangalore.\n",
    " - Fixed lines start with an area code enclosed in brackets. The area\n",
    "   codes vary in length but always begin with 0.\n",
    " - Mobile numbers have no parentheses, but have a space in the middle\n",
    "   of the number to help readability. The prefix of a mobile number\n",
    "   is its first four digits, and they always start with 7, 8 or 9.\n",
    " - Telemarketers' numbers have no parentheses or space, but they start\n",
    "   with the area code 140.\n",
    "\n",
    "Print the answer as part of a message:\n",
    "\"The numbers called by people in Bangalore have codes:\"\n",
    " <list of codes>\n",
    "The list of codes should be print out one per line in lexicographic order with no duplicates.\n",
    "\n",
    "\"\"\"\n",
    "\n",
    "# for each call, verify if calling number is in Bangalore\n",
    "# extract code\n",
    "# 3 cases: fixed nb, phone nb & telemarketer nb\n",
    "\n",
    "# helper function: extract code\n",
    "\n",
    "\n",
    "def extract_code(number):\n",
    "    \"\"\"Helper function:\n",
    "        Returns the code for fixed number, prefix for mobile number and 140 for telemarketers's number.\n",
    "        Input: number is a string.\n",
    "        Output: code is a string.\n",
    "        \"\"\"\n",
    "    if \"(\" in number:\n",
    "        return number.split(\")\")[0].strip(\"(\")\n",
    "    elif \" \" in number:\n",
    "        return number[:4]\n",
    "    else:\n",
    "        return number[:3]\n",
    "\n",
    "# test extract_code function\n",
    "\"\"\"\n",
    "for text in texts[:10]:\n",
    "    print(extract_code(text[0]))\n",
    "    \n",
    "print('\\n')\n",
    "\n",
    "for call in calls[-10:]:\n",
    "    print(extract_code(call[1]))\n",
    "\"\"\"\n",
    "\n",
    "def find_calls_from_bangalore():\n",
    "    code_list = set()\n",
    "    for call in calls:\n",
    "        # check whether the call is from Bangalore\n",
    "        if extract_code(call[0]) == \"080\":\n",
    "            code_list.add(extract_code(call[1]))\n",
    "    for code in sorted(list(code_list)):\n",
    "        print(code, '\\n')"
   ]
  },
  {
   "cell_type": "code",
   "execution_count": 12,
   "metadata": {},
   "outputs": [
    {
     "name": "stdout",
     "output_type": "stream",
     "text": [
      "The numbers called by people in Bangalore have codes: \n",
      "022 \n",
      "\n",
      "040 \n",
      "\n",
      "04344 \n",
      "\n",
      "044 \n",
      "\n",
      "04546 \n",
      "\n",
      "0471 \n",
      "\n",
      "080 \n",
      "\n",
      "0821 \n",
      "\n",
      "7406 \n",
      "\n",
      "7795 \n",
      "\n",
      "7813 \n",
      "\n",
      "7829 \n",
      "\n",
      "8151 \n",
      "\n",
      "8152 \n",
      "\n",
      "8301 \n",
      "\n",
      "8431 \n",
      "\n",
      "8714 \n",
      "\n",
      "9008 \n",
      "\n",
      "9019 \n",
      "\n",
      "9035 \n",
      "\n",
      "9036 \n",
      "\n",
      "9241 \n",
      "\n",
      "9242 \n",
      "\n",
      "9341 \n",
      "\n",
      "9342 \n",
      "\n",
      "9343 \n",
      "\n",
      "9400 \n",
      "\n",
      "9448 \n",
      "\n",
      "9449 \n",
      "\n",
      "9526 \n",
      "\n",
      "9656 \n",
      "\n",
      "9738 \n",
      "\n",
      "9740 \n",
      "\n",
      "9741 \n",
      "\n",
      "9742 \n",
      "\n",
      "9844 \n",
      "\n",
      "9845 \n",
      "\n",
      "9900 \n",
      "\n",
      "9961 \n",
      "\n"
     ]
    }
   ],
   "source": [
    "print(\"The numbers called by people in Bangalore have codes: \")\n",
    "find_calls_from_bangalore()"
   ]
  },
  {
   "cell_type": "code",
   "execution_count": 14,
   "metadata": {},
   "outputs": [
    {
     "name": "stdout",
     "output_type": "stream",
     "text": [
      "24.81 percent of calls from fixed lines in Bangalore are calls to other fixed lines in Bangalore.\n"
     ]
    }
   ],
   "source": [
    "\"\"\"\n",
    "Part B: What percentage of calls from fixed lines in Bangalore are made\n",
    "to fixed lines also in Bangalore? In other words, of all the calls made\n",
    "from a number starting with \"(080)\", what percentage of these calls\n",
    "were made to a number also starting with \"(080)\"?\n",
    "\n",
    "Print the answer as a part of a message::\n",
    "\"<percentage> percent of calls from fixed lines in Bangalore are calls\n",
    "to other fixed lines in Bangalore.\"\n",
    "The percentage should have 2 decimal digits\n",
    "\n",
    "\"\"\"\n",
    "\n",
    "# for each call, verify if calling number is in Bangalore: increment total call by 1\n",
    "# verify if answering number is in Bangalore: increment by 1\n",
    "\n",
    "def bangalore_calls_percentage():\n",
    "    total_bangalore_calls = 0\n",
    "    bangalore_to_bangalore_calls = 0\n",
    "    for call in calls:\n",
    "        if extract_code(call[0]) == \"080\":\n",
    "            total_bangalore_calls += 1\n",
    "            if extract_code(call[1]) == \"080\":\n",
    "                bangalore_to_bangalore_calls += 1\n",
    "    return bangalore_to_bangalore_calls/total_bangalore_calls*100\n",
    "\n",
    "print(\"{:.2f} percent of calls from fixed lines in Bangalore are calls to other fixed lines in Bangalore.\".format(bangalore_calls_percentage()))"
   ]
  },
  {
   "cell_type": "markdown",
   "metadata": {},
   "source": [
    "# Task4"
   ]
  },
  {
   "cell_type": "code",
   "execution_count": 16,
   "metadata": {},
   "outputs": [
    {
     "name": "stdout",
     "output_type": "stream",
     "text": [
      "(022)37572285 \n",
      "\n",
      "(022)65548497 \n",
      "\n",
      "(022)68535788 \n",
      "\n",
      "(022)69042431 \n",
      "\n",
      "(040)30429041 \n",
      "\n",
      "(044)22020822 \n",
      "\n",
      "(0471)2171438 \n",
      "\n",
      "(0471)6579079 \n",
      "\n",
      "(080)20383942 \n",
      "\n",
      "(080)25820765 \n",
      "\n",
      "(080)31606520 \n",
      "\n",
      "(080)40362016 \n",
      "\n",
      "(080)60463379 \n",
      "\n",
      "(080)60998034 \n",
      "\n",
      "(080)62963633 \n",
      "\n",
      "(080)64015211 \n",
      "\n",
      "(080)69887826 \n",
      "\n",
      "(0821)3257740 \n",
      "\n",
      "74064 66270 \n",
      "\n",
      "78291 94593 \n",
      "\n",
      "87144 55014 \n",
      "\n",
      "90351 90193 \n",
      "\n",
      "92414 69419 \n",
      "\n",
      "94495 03761 \n",
      "\n",
      "97404 30456 \n",
      "\n",
      "97407 84573 \n",
      "\n",
      "97442 45192 \n",
      "\n",
      "99617 25274 \n",
      "\n"
     ]
    }
   ],
   "source": [
    "\"\"\"\n",
    "TASK 4:\n",
    "The telephone company want to identify numbers that might be doing\n",
    "telephone marketing. Create a set of possible telemarketers:\n",
    "these are numbers that make outgoing calls but never send texts,\n",
    "receive texts or receive incoming calls.\n",
    "\n",
    "Print a message:\n",
    "\"These numbers could be telemarketers: \"\n",
    "<list of numbers>\n",
    "The list of numbers should be print out one per line in lexicographic order with no duplicates.\n",
    "\"\"\"\n",
    "# np array containing all calling, answering numbers\n",
    "calling = np.array(calls)[:, 0]\n",
    "answering = np.array(calls)[:, 1]\n",
    "\n",
    "# np array containing all numbers that send and receive texts\n",
    "send_texts = np.array(texts)[:, 0]\n",
    "receive_texts = np.array(texts)[:, 1]\n",
    "\n",
    "# take the elements that are in calling and not are in answering, send_texts and receive_texts\n",
    "telemarketers = np.setdiff1d(np.setdiff1d(np.setdiff1d(calling, answering), send_texts), receive_texts)\n",
    "\n",
    "# remove true telemarketer numbers\n",
    "possible_telemarketers = [number for number in list(telemarketers) if extract_code(number) != \"140\"]\n",
    "\n",
    "for number in sorted(possible_telemarketers):\n",
    "    print(number, '\\n')"
   ]
  },
  {
   "cell_type": "markdown",
   "metadata": {},
   "source": [
    "# Calculate Big O "
   ]
  },
  {
   "cell_type": "markdown",
   "metadata": {},
   "source": [
    "#### Task0"
   ]
  },
  {
   "cell_type": "markdown",
   "metadata": {},
   "source": [
    "This task is performed by accessing elements in list. The execution time of the algorithm doesn't depend on the input size. \n",
    "List is data structure where elements are stored in continuous memory location. Knowing element index allows us to access that element directly. Therefore: O(1)"
   ]
  },
  {
   "cell_type": "markdown",
   "metadata": {},
   "source": [
    "#### Task1"
   ]
  },
  {
   "cell_type": "markdown",
   "metadata": {},
   "source": [
    "This task is performed with a loop: for each element in a list, the resulting set is updated. The execution time depends on input size: if the list has more elements, it takes longer to run. To run the loop, we need O(n). Set is considered as hash table in Python. Update a set takes O(n) in worst case. To print out final statement, I used a \"get length\" function that takes O(1). Therefore: O(n^2) for task 1."
   ]
  },
  {
   "cell_type": "markdown",
   "metadata": {},
   "source": [
    "The second solution involves copying a list (O(n)), numpy array slicing (O(1)), and array union (O(n)). In the print statement, the set transformation takes O(n) and \"get length\" takes O(1). Conclusion: in the worst case, this solution takes O(n^2)."
   ]
  },
  {
   "cell_type": "markdown",
   "metadata": {},
   "source": [
    "#### Task 2"
   ]
  },
  {
   "cell_type": "markdown",
   "metadata": {},
   "source": [
    "The for loop takes O(n^2) to run since each operation consists of setting an item in a dictionary. \n",
    "The print statement takes O(n) to run: it searches for an element in the dictionary. Therefore: O(n^2) for task 2."
   ]
  },
  {
   "cell_type": "markdown",
   "metadata": {},
   "source": [
    "#### Task 3"
   ]
  },
  {
   "cell_type": "markdown",
   "metadata": {},
   "source": [
    "Part A:\n",
    "This task involves the following process:\n",
    "    - the first for loop: O(n^2) to run since on each iteration, a set is updated.\n",
    "    - sort a list: this takes O(nlogn) to run.\n",
    "    - the second for loop: O(1) to run\n",
    "    \n",
    "Therefore in the worst case, this A part takes O(n^2) to run."
   ]
  },
  {
   "cell_type": "markdown",
   "metadata": {},
   "source": [
    "Part B:\n",
    "This task consists of a for loop that takes O(n) to run."
   ]
  },
  {
   "cell_type": "markdown",
   "metadata": {},
   "source": [
    "#### Task 4"
   ]
  },
  {
   "cell_type": "markdown",
   "metadata": {},
   "source": [
    "This task involves the following process:\n",
    "    - Create numpy array: this is like copying an array: O(n) to run\n",
    "    - Slicing an array: O(1) to run\n",
    "    - Find difference between two arrays: O(n^2) to run\n",
    "    - Filter an array: O(n) to run\n",
    "    - Sort an array: O(nlogn) to run.\n",
    "    - Print statement: O(n) to run\n",
    "    \n",
    "Conclusion: O(n^2) to run this task."
   ]
  },
  {
   "cell_type": "code",
   "execution_count": null,
   "metadata": {},
   "outputs": [],
   "source": []
  }
 ],
 "metadata": {
  "kernelspec": {
   "display_name": "Python 3",
   "language": "python",
   "name": "python3"
  },
  "language_info": {
   "codemirror_mode": {
    "name": "ipython",
    "version": 3
   },
   "file_extension": ".py",
   "mimetype": "text/x-python",
   "name": "python",
   "nbconvert_exporter": "python",
   "pygments_lexer": "ipython3",
   "version": "3.7.1"
  }
 },
 "nbformat": 4,
 "nbformat_minor": 4
}
