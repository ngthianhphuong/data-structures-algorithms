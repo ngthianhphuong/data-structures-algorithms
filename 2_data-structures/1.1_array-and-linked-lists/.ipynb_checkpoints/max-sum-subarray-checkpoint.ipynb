{
 "cells": [
  {
   "cell_type": "markdown",
   "metadata": {
    "graffitiCellId": "id_9vap74c"
   },
   "source": [
    "### Problem Statement\n",
    "\n",
    "You have been given an array containg numbers. Find and return the largest sum in a contiguous subarray within the input array.\n",
    "\n",
    "**Example 1:**\n",
    "* `arr= [1, 2, 3, -4, 6]`\n",
    "* The largest sum is `8`, which is the sum of all elements of the array.\n",
    "\n",
    "**Example 2:**\n",
    "* `arr = [1, 2, -5, -4, 1, 6]`\n",
    "* The largest sum is `7`, which is the sum of the last two elements of the array.\n",
    "\n",
    "\n",
    "\n",
    " "
   ]
  },
  {
   "cell_type": "code",
   "execution_count": 20,
   "metadata": {
    "graffitiCellId": "id_ok5cosl"
   },
   "outputs": [],
   "source": [
    "#%% Imports and functions declaration\n",
    "\n",
    "from itertools import combinations\n",
    "\n",
    "def sum_list(input_list):\n",
    "    \"\"\"\n",
    "    Sums the values of a list\n",
    "    :param input_list:\n",
    "    :return: the sum of the values\n",
    "    \"\"\"\n",
    "    sum = 0\n",
    "    for number in input_list:\n",
    "        sum += number\n",
    "    return sum\n",
    "\n",
    "\n",
    "def sublist_generator(input_list):\n",
    "    \"\"\"\n",
    "    Given a list generates all possible combinations\n",
    "    :param input_list: input list\n",
    "    :return: all possible combinations of lists\n",
    "    \"\"\"\n",
    "    all_combinations = []\n",
    "    \n",
    "    for index, _ in enumerate(input_list):\n",
    "        end = index + 2\n",
    "        while end <= len(input_list): \n",
    "            combination = input_list[index:end]\n",
    "            all_combinations.append(combination)\n",
    "            end += 1\n",
    "\n",
    "    return all_combinations\n",
    "        \n",
    "def max_sum_subarray(input_list):\n",
    "    \"\"\"\n",
    "    Given a list, returns the maximum value issue from all possible combinations\n",
    "    :param input_list: input list\n",
    "    :return: maximum value issue form all elements combinations\n",
    "    \"\"\"\n",
    "    all_combinations = sublist_generator(input_list)\n",
    "    all_sum = []\n",
    "    for sub_list in all_combinations:\n",
    "        all_sum.append(sum_list(sub_list))\n",
    "    all_sum.append(sum_list(input_list))\n",
    "    \n",
    "    return max(all_sum)"
   ]
  },
  {
   "cell_type": "markdown",
   "metadata": {
    "graffitiCellId": "id_qy59phn"
   },
   "source": [
    "<span class=\"graffiti-highlight graffiti-id_qy59phn-id_3hqoizc\"><i></i><button>Show Solution</button></span>"
   ]
  },
  {
   "cell_type": "code",
   "execution_count": 21,
   "metadata": {
    "graffitiCellId": "id_x2c4yaf"
   },
   "outputs": [],
   "source": [
    "def test_function(test_case):\n",
    "    arr = test_case[0]\n",
    "    solution = test_case[1]\n",
    "    \n",
    "    output = max_sum_subarray(arr)\n",
    "    if output == solution:\n",
    "        print(\"Pass\")\n",
    "    else:\n",
    "        print(\"Fail\")"
   ]
  },
  {
   "cell_type": "code",
   "execution_count": 22,
   "metadata": {
    "graffitiCellId": "id_ocg7bal"
   },
   "outputs": [
    {
     "name": "stdout",
     "output_type": "stream",
     "text": [
      "Pass\n"
     ]
    }
   ],
   "source": [
    "arr= [1, 2, 3, -4, 6]\n",
    "solution= 8 # sum of array\n",
    "\n",
    "test_case = [arr, solution]\n",
    "test_function(test_case)"
   ]
  },
  {
   "cell_type": "code",
   "execution_count": 23,
   "metadata": {
    "graffitiCellId": "id_vepfpek"
   },
   "outputs": [
    {
     "name": "stdout",
     "output_type": "stream",
     "text": [
      "Pass\n"
     ]
    }
   ],
   "source": [
    "arr = [1, 2, -5, -4, 1, 6]\n",
    "solution = 7   # sum of last two elements\n",
    "\n",
    "test_case = [arr, solution]\n",
    "test_function(test_case)"
   ]
  },
  {
   "cell_type": "code",
   "execution_count": 24,
   "metadata": {
    "graffitiCellId": "id_78na1mt"
   },
   "outputs": [
    {
     "name": "stdout",
     "output_type": "stream",
     "text": [
      "Pass\n"
     ]
    }
   ],
   "source": [
    "arr = [-12, 15, -13, 14, -1, 2, 1, -5, 4]\n",
    "solution = 18  # sum of subarray = [15, -13, 14, -1, 2, 1]\n",
    "\n",
    "test_case = [arr, solution]\n",
    "test_function(test_case)"
   ]
  },
  {
   "cell_type": "code",
   "execution_count": null,
   "metadata": {},
   "outputs": [],
   "source": []
  }
 ],
 "metadata": {
  "graffiti": {
   "firstAuthorId": "dev",
   "id": "id_jzh7rvz",
   "language": "EN"
  },
  "kernelspec": {
   "display_name": "Python 3",
   "language": "python",
   "name": "python3"
  },
  "language_info": {
   "codemirror_mode": {
    "name": "ipython",
    "version": 3
   },
   "file_extension": ".py",
   "mimetype": "text/x-python",
   "name": "python",
   "nbconvert_exporter": "python",
   "pygments_lexer": "ipython3",
   "version": "3.7.1"
  }
 },
 "nbformat": 4,
 "nbformat_minor": 2
}
