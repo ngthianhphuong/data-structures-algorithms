{
 "cells": [
  {
   "cell_type": "markdown",
   "metadata": {
    "graffitiCellId": "id_ow7e8a4"
   },
   "source": [
    "### Problem Statement\n",
    "\n",
    "Given a linked list with integer data, arrange the elements in such a manner that all nodes with even numbers are placed after odd numbers. **Do not create any new nodes and avoid using any other data structure. The relative order of even and odd elements must not change.** \n",
    "\n",
    "**Example:**\n",
    "* `linked list = 1 2 3 4 5 6`\n",
    "* `output = 1 3 5 2 4 6`"
   ]
  },
  {
   "cell_type": "code",
   "execution_count": 4,
   "metadata": {
    "graffitiCellId": "id_7vmjo6u"
   },
   "outputs": [],
   "source": [
    "class Node:\n",
    "    def __init__(self, value):\n",
    "        self.value = value\n",
    "        self.next = None"
   ]
  },
  {
   "cell_type": "code",
   "execution_count": 76,
   "metadata": {},
   "outputs": [],
   "source": [
    "# create a LinkedList class with append and to_list methods\n",
    "\n",
    "class LinkedList:\n",
    "    def __init__(self, head):\n",
    "        self.head = head\n",
    "\n",
    "    def append(self, value):\n",
    "        if self.head is None:\n",
    "            self.head = Node(value)\n",
    "            return\n",
    "        node = self.head\n",
    "        while node.next is not None:\n",
    "            node = node.next\n",
    "        node.next = Node(value)\n",
    "        \n",
    "    def to_list(self):\n",
    "        nodes = list()\n",
    "        node = self.head\n",
    "        while node:\n",
    "            nodes.append(node.value)\n",
    "            node = node.next\n",
    "        return nodes\n",
    "                \n",
    "    def size(self):\n",
    "        \"\"\" Return the size or length of the linked list. \"\"\"\n",
    "        return len(self.to_list())\n",
    "    \n",
    "    def remove(self, value):\n",
    "        \"\"\" Remove first occurrence of value. \"\"\"\n",
    "        \n",
    "        # start with the head node and assign None as value to the node before it\n",
    "        node = self.head\n",
    "        node_prev = None\n",
    "        \n",
    "        # break the loop when the given value is found\n",
    "        # move until the end of the list\n",
    "        while node:\n",
    "            if node.value == value:\n",
    "                if node_prev is None:\n",
    "                    self.head = node.next\n",
    "                else:\n",
    "                    node_prev.next = node.next\n",
    "                break\n",
    "                \n",
    "            node_prev, node = node, node.next"
   ]
  },
  {
   "cell_type": "code",
   "execution_count": 6,
   "metadata": {},
   "outputs": [],
   "source": [
    "def is_even(number):\n",
    "    \"\"\"\n",
    "    Function that checks whether a number is even.\n",
    "    Returns: True if number is even, False otherwise.\n",
    "    \"\"\"\n",
    "    if number % 2 == 0:\n",
    "        return True\n",
    "    return False"
   ]
  },
  {
   "cell_type": "code",
   "execution_count": 21,
   "metadata": {},
   "outputs": [],
   "source": [
    "# function that merge two linked lists\n",
    "\n",
    "def merge(odd, even):\n",
    "    \"\"\"Function that merges an odd linked list and an even linked list in a single linked list.\n",
    "    Args: odd linked list, even linked list.\n",
    "    Returns: merged linked list (even after odd)\n",
    "    \"\"\"\n",
    "    merged = LinkedList(None)\n",
    "    \n",
    "    if odd is None:\n",
    "        return even\n",
    "    elif even is None:\n",
    "        return odd\n",
    "    \n",
    "    # move to odd linked list's tail:\n",
    "    node = odd.head\n",
    "    while node.next is not None:\n",
    "        merged.append(node.value)\n",
    "        node = node.next\n",
    "    \n",
    "    # take even linked list's head\n",
    "    node_next = even.head\n",
    "    \n",
    "    # assign odd linked list's tail to even linked list's head\n",
    "    node.next = node_next\n",
    "    while node.next is not None:\n",
    "        merged.append(node.value)\n",
    "        node = node.next\n",
    "    merged.append(node.value)\n",
    "    return merged\n",
    " "
   ]
  },
  {
   "cell_type": "code",
   "execution_count": 22,
   "metadata": {},
   "outputs": [
    {
     "name": "stdout",
     "output_type": "stream",
     "text": [
      "1\n",
      "3\n",
      "5\n",
      "2\n",
      "4\n",
      "6\n"
     ]
    }
   ],
   "source": [
    "# TEST merge function\n",
    "\n",
    "# create odd linked list\n",
    "odd = LinkedList(Node(1))\n",
    "odd.append(3)\n",
    "odd.append(5)\n",
    "\n",
    "# create even linked list\n",
    "even = LinkedList(Node(2))\n",
    "even.append(4)\n",
    "even.append(6)\n",
    "\n",
    "# merge\n",
    "merged = merge(odd, even)\n",
    "node = merged.head\n",
    "while node is not None: # this should print 1, 3, 5, 2, 4, 6\n",
    "    print(node.value)\n",
    "    node = node.next\n",
    "\n"
   ]
  },
  {
   "cell_type": "code",
   "execution_count": 74,
   "metadata": {
    "graffitiCellId": "id_hhuh98d"
   },
   "outputs": [],
   "source": [
    "def even_after_odd(head):\n",
    "    \"\"\"\n",
    "    :param - head - head of linked list\n",
    "    return - updated list with all even elements are after odd elements\n",
    "    \"\"\"\n",
    "    # idea: read all elements, classify them into two lists: even and odd. Then merge them in one linked list\n",
    "    # THIS SOLUTION WORKS BUT IMPLIES TO CREATE NEW NODES\n",
    "    \n",
    "    # create two empty linked lists: one for odd numbers and one for even numbers\n",
    "    odd_list = LinkedList(None)\n",
    "    even_list = LinkedList(None)\n",
    "    \n",
    "    # read all elements of provided linked list and append each element to either even or odd list:\n",
    "    \n",
    "    node = head\n",
    "    while node:\n",
    "        if is_even(node.value):\n",
    "            even_list.append(node.value)\n",
    "        else:\n",
    "            odd_list.append(node.value)\n",
    "        node = node.next\n",
    "    \n",
    "    # merge two linked lists into one\n",
    "    merged = merge(odd_list, even_list)\n",
    "    return merged"
   ]
  },
  {
   "cell_type": "code",
   "execution_count": 68,
   "metadata": {},
   "outputs": [
    {
     "name": "stdout",
     "output_type": "stream",
     "text": [
      "1 2 3 4 5 6 \n"
     ]
    },
    {
     "data": {
      "text/plain": [
       "<__main__.Node at 0x1d659233160>"
      ]
     },
     "execution_count": 68,
     "metadata": {},
     "output_type": "execute_result"
    }
   ],
   "source": [
    "# TEST even_after_odd function\n",
    "\n",
    "# create a linked list\n",
    "arr = [1, 2, 3, 4, 5, 6]\n",
    "\n",
    "head = create_linked_list(arr)\n",
    "print_linked_list(head)\n",
    "\n",
    "result = even_after_odd(head)\n",
    "result"
   ]
  },
  {
   "cell_type": "code",
   "execution_count": 57,
   "metadata": {},
   "outputs": [
    {
     "name": "stdout",
     "output_type": "stream",
     "text": [
      "1\n",
      "3\n",
      "5\n",
      "2\n",
      "4\n",
      "6\n"
     ]
    }
   ],
   "source": [
    "node = result.head\n",
    "while node:\n",
    "    print(node.value)\n",
    "    node = node.next"
   ]
  },
  {
   "cell_type": "code",
   "execution_count": 158,
   "metadata": {},
   "outputs": [],
   "source": [
    "def count_even_odd(head):\n",
    "    \"\"\"Function that counts number of even and odd numbers in a linked list.\n",
    "    Arg: head - head of linked list\n",
    "    Return: nb_even, nb_odd.\n",
    "    \"\"\"\n",
    "    \n",
    "    nb_even = 0\n",
    "    nb_odd = 0\n",
    "    while head:\n",
    "        if is_even(head.value):\n",
    "            nb_even += 1\n",
    "        else:\n",
    "            nb_odd += 1\n",
    "        head = head.next\n",
    "    return nb_even, nb_odd"
   ]
  },
  {
   "cell_type": "code",
   "execution_count": 171,
   "metadata": {},
   "outputs": [],
   "source": [
    "def even_after_odd(head):\n",
    "    \"\"\"\n",
    "    :param - head - head of linked list\n",
    "    return - updated list with all even elements are after odd elements\n",
    "    \"\"\"\n",
    "    \n",
    "    # count number of even and odd\n",
    "    nb_even, nb_odd = count_even_odd(head)\n",
    "    \n",
    "    if nb_even == 0: # all numbers are odd\n",
    "        return head\n",
    "    elif nb_odd == 0: # all numbers are even\n",
    "        return head\n",
    "    else:\n",
    "        # idea: read all elements, if the number is even, move it to the end, do this \"nb_even\" times\n",
    "        index = 0\n",
    "        while index < nb_even:\n",
    "            node = head\n",
    "            while node.next is not None:\n",
    "                if is_even(node.next.value): # if next node is even\n",
    "                    even_node = node.next # keep the even node aside\n",
    "                    node.next = node.next.next\n",
    "                    even_node.next = None\n",
    "\n",
    "                    while node.next is not None:\n",
    "                        # move to the list's tail\n",
    "                        node = node.next\n",
    "\n",
    "                    node.next = even_node\n",
    "                    print_linked_list(head)\n",
    "                    node = node.next\n",
    "                else:\n",
    "                    node = node.next\n",
    "\n",
    "            index += 1\n",
    "        return head"
   ]
  },
  {
   "cell_type": "markdown",
   "metadata": {
    "graffitiCellId": "id_xpuflcm"
   },
   "source": [
    "<span class=\"graffiti-highlight graffiti-id_xpuflcm-id_9q4n7o8\"><i></i><button>Show Solution</button></span>"
   ]
  },
  {
   "cell_type": "code",
   "execution_count": 172,
   "metadata": {
    "graffitiCellId": "id_u1fjo92"
   },
   "outputs": [],
   "source": [
    "# helper functions for testing purpose\n",
    "def create_linked_list(arr):\n",
    "    if len(arr)==0:\n",
    "        return None\n",
    "    head = Node(arr[0])\n",
    "    tail = head\n",
    "    for data in arr[1:]:\n",
    "        tail.next = Node(data)\n",
    "        tail = tail.next\n",
    "    return head\n",
    "\n",
    "def print_linked_list(head):\n",
    "    while head:\n",
    "        print(head.value, end=' ')\n",
    "        head = head.next\n",
    "    print()"
   ]
  },
  {
   "cell_type": "code",
   "execution_count": 173,
   "metadata": {
    "graffitiCellId": "id_c1r40y6"
   },
   "outputs": [],
   "source": [
    "def test_function(test_case):\n",
    "    head = test_case[0]\n",
    "    solution = test_case[1]\n",
    "    \n",
    "    node_tracker = dict({})\n",
    "    node_tracker['nodes'] = list() # list of all nodes in the provided linked list\n",
    "    temp = head\n",
    "    while temp:\n",
    "        node_tracker['nodes'].append(temp)\n",
    "        temp = temp.next\n",
    "        \n",
    "    head = even_after_odd(head)    \n",
    "    temp = head\n",
    "    index = 0\n",
    "    try:\n",
    "        while temp:\n",
    "            if temp.value != solution[index] or temp not in node_tracker['nodes']:\n",
    "                print(\"Fail\")\n",
    "                return\n",
    "            temp = temp.next\n",
    "            index += 1\n",
    "        print(\"Pass\")            \n",
    "    except Exception as e:\n",
    "        print(\"Fail\")"
   ]
  },
  {
   "cell_type": "code",
   "execution_count": 174,
   "metadata": {
    "graffitiCellId": "id_g689uo0"
   },
   "outputs": [
    {
     "name": "stdout",
     "output_type": "stream",
     "text": [
      "1 3 4 5 6 2 \n",
      "1 3 5 6 2 4 \n",
      "1 3 5 2 4 6 \n",
      "Pass\n"
     ]
    }
   ],
   "source": [
    "arr = [1, 2, 3, 4, 5, 6]\n",
    "solution = [1, 3, 5, 2, 4, 6]\n",
    "\n",
    "head = create_linked_list(arr)\n",
    "test_case = [head, solution]\n",
    "test_function(test_case)"
   ]
  },
  {
   "cell_type": "code",
   "execution_count": 175,
   "metadata": {
    "graffitiCellId": "id_f2x6gq4"
   },
   "outputs": [
    {
     "name": "stdout",
     "output_type": "stream",
     "text": [
      "Pass\n"
     ]
    }
   ],
   "source": [
    "arr = [1, 3, 5, 7]\n",
    "solution = [1, 3, 5, 7]\n",
    "\n",
    "head = create_linked_list(arr)\n",
    "test_case = [head, solution]\n",
    "test_function(test_case)"
   ]
  },
  {
   "cell_type": "code",
   "execution_count": 176,
   "metadata": {
    "graffitiCellId": "id_ejterzp"
   },
   "outputs": [
    {
     "name": "stdout",
     "output_type": "stream",
     "text": [
      "Pass\n"
     ]
    }
   ],
   "source": [
    "arr = [2, 4, 6, 8]\n",
    "solution = [2, 4, 6, 8]\n",
    "head = create_linked_list(arr)\n",
    "test_case = [head, solution]\n",
    "test_function(test_case)"
   ]
  },
  {
   "cell_type": "code",
   "execution_count": null,
   "metadata": {},
   "outputs": [],
   "source": []
  }
 ],
 "metadata": {
  "graffiti": {
   "firstAuthorId": "dev",
   "id": "id_8zd3m5b",
   "language": "EN"
  },
  "kernelspec": {
   "display_name": "Python 3",
   "language": "python",
   "name": "python3"
  },
  "language_info": {
   "codemirror_mode": {
    "name": "ipython",
    "version": 3
   },
   "file_extension": ".py",
   "mimetype": "text/x-python",
   "name": "python",
   "nbconvert_exporter": "python",
   "pygments_lexer": "ipython3",
   "version": "3.7.1"
  }
 },
 "nbformat": 4,
 "nbformat_minor": 2
}
